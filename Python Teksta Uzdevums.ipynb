{
 "cells": [
  {
   "cell_type": "markdown",
   "metadata": {},
   "source": [
    "## Python ievads - 2. nodarbība"
   ]
  },
  {
   "cell_type": "markdown",
   "metadata": {},
   "source": [
    "### Uzdevums"
   ]
  },
  {
   "cell_type": "code",
   "execution_count": 13,
   "metadata": {},
   "outputs": [],
   "source": [
    "# Avots: https://en.wikipedia.org/wiki/Python_(programming_language)\n",
    "\n",
    "my_str = \"\"\"Python is an interpreted high-level programming language for general-purpose programming. Created by Guido van Rossum and first released in 1991, Python has a design philosophy that emphasizes code readability, notably using significant whitespace. It provides constructs that enable clear programming on both small and large scales. In July 2018, Van Rossum stepped down as the leader in the language community after 30 years.\n",
    "\n",
    "Python features a dynamic type system and automatic memory management. It supports multiple programming paradigms, including object-oriented, imperative, functional and procedural, and has a large and comprehensive standard library.\n",
    "\n",
    "Python interpreters are available for many operating systems. CPython, the reference implementation of Python, is open source software and has a community-based development model, as do nearly all of Python's other implementations. Python and CPython are managed by the non-profit Python Software Foundation.\n",
    "\n",
    "On the origins of Python, Van Rossum wrote in 1996:\n",
    "\n",
    "  ...In December 1989, I was looking for a \"hobby\" programming project\n",
    "  that would keep me occupied during the week around Christmas. \n",
    "\n",
    "  My office ... would be closed, but I had a home computer, \n",
    "  and not much else on my hands. \n",
    "  \n",
    "  I decided to write an interpreter for the new scripting language \n",
    "  I had been thinking about lately: a descendant of ABC that would \n",
    "  appeal to Unix/C hackers. \n",
    "  \n",
    "  I chose Python as a working title for the project, \n",
    "  being in a slightly irreverent mood (and a big fan \n",
    "  of Monty Python's Flying Circus).\n",
    "\"\"\"\n"
   ]
  },
  {
   "cell_type": "markdown",
   "metadata": {},
   "source": [
    "**Ir dots teksta mainīgais (my_str).**\n",
    "\n",
    "1. Saskaitīt tekstā sastopamo vārdu biežumu\n",
    "1. Izdrukāt unikālo vārdu skaitu\n",
    "1. Izdrukāt 20. biežāk sastopamo vārdu sarakstu (un to skaitu tekstā) \n",
    "1. Kādi ir tekstā visretāk sastopamie vārdi?\n",
    "\n",
    "**Risinot noderēs:**\n",
    "\n",
    "- string methods: https://docs.python.org/3/library/stdtypes.html#string-methods\n",
    "  - split() metode\n",
    "  - strip() metode - noņem sākuma / beigu tukšumus\n",
    "  "
   ]
  },
  {
   "cell_type": "code",
   "execution_count": 12,
   "metadata": {},
   "outputs": [
    {
     "data": {
      "text/plain": [
       "['Python is an interpreted high-level programming language for general-purpose programming. Created by Guido van Rossum and first released in 1991, Python has a design philosophy that emphasizes code readability, notably using significant whitespace. It provides constructs that enable clear programming on both small and large scales. In July 2018, Van Rossum stepped down as the leader in the language community after 30 years.',\n",
       " 'Python features a dynamic type system and automatic memory management. It supports multiple programming paradigms, including object-oriented, imperative, functional and procedural, and has a large and comprehensive standard library.']"
      ]
     },
     "execution_count": 12,
     "metadata": {},
     "output_type": "execute_result"
    }
   ],
   "source": [
    "# sadalīt tekstu rindiņās\n",
    "lines = my_str.splitlines()\n",
    "\n",
    "# iztīram tukšās rindiņas\n",
    "lines = [item for item in lines if len(item)>0]\n",
    "\n",
    "# parādīt pirmās rindiņas\n",
    "lines[:2]"
   ]
  },
  {
   "cell_type": "code",
   "execution_count": 10,
   "metadata": {},
   "outputs": [],
   "source": [
    "# uzdevuma risinājumu var turpināt te\n",
    "\n"
   ]
  }
 ],
 "metadata": {
  "celltoolbar": "Raw Cell Format",
  "kernelspec": {
   "display_name": "Python 3",
   "language": "python",
   "name": "python3"
  }
 },
 "nbformat": 4,
 "nbformat_minor": 2
}