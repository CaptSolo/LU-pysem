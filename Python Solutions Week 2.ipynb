{
 "cells": [
  {
   "cell_type": "markdown",
   "metadata": {},
   "source": [
    "# Python Solutions Week 2"
   ]
  },
  {
   "cell_type": "code",
   "execution_count": 10,
   "metadata": {},
   "outputs": [
    {
     "name": "stdout",
     "output_type": "stream",
     "text": [
      "True\n",
      "True\n",
      "False\n",
      "False\n",
      "False\n"
     ]
    }
   ],
   "source": [
    "def isPalindrome(s):\n",
    "    return s == s[::-1]\n",
    "print(isPalindrome(\"\"))\n",
    "print(isPalindrome(\"akka\"))\n",
    "print(isPalindrome(\"zupa\"))\n",
    "print(isPalindrome(\"alus ari ira zupa\"))\n",
    "print(isPalindrome(\"alus ari ira   sula\"))"
   ]
  },
  {
   "cell_type": "code",
   "execution_count": 11,
   "metadata": {},
   "outputs": [
    {
     "name": "stdout",
     "output_type": "stream",
     "text": [
      "True\n",
      "True\n",
      "False\n",
      "False\n",
      "True\n",
      "True\n"
     ]
    }
   ],
   "source": [
    "def isPalindrome(s):\n",
    "    # might want to use a local variable here for longer strings\n",
    "    return s.replace(\" \",\"\") == s[::-1].replace(\" \",\"\")\n",
    "    # another useful string function would be .strip() for leading and ending whitespaces\n",
    "print(isPalindrome(\"\"))\n",
    "print(isPalindrome(\"akka\"))\n",
    "print(isPalindrome(\"zupa\"))\n",
    "print(isPalindrome(\"alus ari ira zupa\"))\n",
    "print(isPalindrome(\"alus ari ira sula\"))\n",
    "print(isPalindrome(\"alus ari ira   sula\"))"
   ]
  },
  {
   "cell_type": "code",
   "execution_count": 13,
   "metadata": {},
   "outputs": [],
   "source": [
    "fox = \"The quick brown fox jumps over the lazy dog\""
   ]
  },
  {
   "cell_type": "code",
   "execution_count": 14,
   "metadata": {},
   "outputs": [
    {
     "data": {
      "text/plain": [
       "{' ',\n",
       " 'T',\n",
       " 'a',\n",
       " 'b',\n",
       " 'c',\n",
       " 'd',\n",
       " 'e',\n",
       " 'f',\n",
       " 'g',\n",
       " 'h',\n",
       " 'i',\n",
       " 'j',\n",
       " 'k',\n",
       " 'l',\n",
       " 'm',\n",
       " 'n',\n",
       " 'o',\n",
       " 'p',\n",
       " 'q',\n",
       " 'r',\n",
       " 's',\n",
       " 't',\n",
       " 'u',\n",
       " 'v',\n",
       " 'w',\n",
       " 'x',\n",
       " 'y',\n",
       " 'z'}"
      ]
     },
     "execution_count": 14,
     "metadata": {},
     "output_type": "execute_result"
    }
   ],
   "source": [
    "set(fox)"
   ]
  },
  {
   "cell_type": "code",
   "execution_count": null,
   "metadata": {},
   "outputs": [],
   "source": [
    "# Aha set gives us items in sorted order! "
   ]
  },
  {
   "cell_type": "code",
   "execution_count": 16,
   "metadata": {},
   "outputs": [
    {
     "data": {
      "text/plain": [
       "{'a',\n",
       " 'b',\n",
       " 'c',\n",
       " 'd',\n",
       " 'e',\n",
       " 'f',\n",
       " 'g',\n",
       " 'h',\n",
       " 'i',\n",
       " 'j',\n",
       " 'k',\n",
       " 'l',\n",
       " 'm',\n",
       " 'n',\n",
       " 'o',\n",
       " 'p',\n",
       " 'q',\n",
       " 'r',\n",
       " 's',\n",
       " 't',\n",
       " 'u',\n",
       " 'v',\n",
       " 'w',\n",
       " 'x',\n",
       " 'y',\n",
       " 'z'}"
      ]
     },
     "execution_count": 16,
     "metadata": {},
     "output_type": "execute_result"
    }
   ],
   "source": [
    "set(fox.lower().replace(' ', ''))"
   ]
  },
  {
   "cell_type": "code",
   "execution_count": null,
   "metadata": {},
   "outputs": [],
   "source": [
    "# Solution to Functions Homework!\n",
    "# One liner is possible! Okay to do it a longer way\n",
    "# Hints: dir(\"string\") for string manipulation(might need more than one)\n",
    "# Also remember one \"unique\" data structure we covered\n",
    "\n",
    "import string\n",
    "print(string.ascii_lowercase)\n",
    "def isPangram(s, a=string.ascii_lowercase):\n",
    "    '''\n",
    "    Returns True if first argument contains all the letters of second argument(default english lowercase alphabet)\n",
    "    '''\n",
    "    #print(set(s.replace(' ','').lower()))\n",
    "    # print(set(string.ascii_lowercase))\n",
    "    return set(s.replace(' ','').lower()) == set(string.ascii_lowercase)\n",
    "print(sorted(set(string.ascii_lowercase)))\n",
    "print(isPangram('dadfafd') == False)\n",
    "print(isPangram(\"The quick brown fox jumps over the lazy dog\") == True)\n",
    "print(isPangram(\"The five boxing wizards jump quickly\") == True)"
   ]
  },
  {
   "cell_type": "markdown",
   "metadata": {},
   "source": [
    "## Interesting project:\n",
    "## Find solver for shortest Latvian pangrams\n",
    "\n",
    "Some sort of greedy solution would work to find a non-optimal solution.\n",
    "\n",
    "https://en.wikipedia.org/wiki/Greedy_algorithm\n"
   ]
  }
 ],
 "metadata": {
  "kernelspec": {
   "display_name": "Python 3",
   "language": "python",
   "name": "python3"
  },
  "language_info": {
   "codemirror_mode": {
    "name": "ipython",
    "version": 3
   },
   "file_extension": ".py",
   "mimetype": "text/x-python",
   "name": "python",
   "nbconvert_exporter": "python",
   "pygments_lexer": "ipython3",
   "version": "3.6.4"
  }
 },
 "nbformat": 4,
 "nbformat_minor": 2
}
