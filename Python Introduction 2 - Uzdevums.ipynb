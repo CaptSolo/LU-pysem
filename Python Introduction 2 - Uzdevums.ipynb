{
 "cells": [
  {
   "cell_type": "markdown",
   "metadata": {},
   "source": [
    "## Python ievads - 2. nodarbība"
   ]
  },
  {
   "cell_type": "markdown",
   "metadata": {},
   "source": [
    "### Uzdevums"
   ]
  },
  {
   "cell_type": "code",
   "execution_count": 4,
   "metadata": {},
   "outputs": [],
   "source": [
    "# Avots: https://en.wikipedia.org/wiki/Python_(programming_language)\n",
    "\n",
    "my_str = \"\"\"Python is an interpreted high-level programming language for general-purpose programming. Created by Guido van Rossum and first released in 1991, Python has a design philosophy that emphasizes code readability, notably using significant whitespace. It provides constructs that enable clear programming on both small and large scales. In July 2018, Van Rossum stepped down as the leader in the language community after 30 years.\n",
    "\n",
    "Python features a dynamic type system and automatic memory management. It supports multiple programming paradigms, including object-oriented, imperative, functional and procedural, and has a large and comprehensive standard library.\n",
    "\n",
    "Python interpreters are available for many operating systems. CPython, the reference implementation of Python, is open source software and has a community-based development model, as do nearly all of Python's other implementations. Python and CPython are managed by the non-profit Python Software Foundation.\n",
    "\n",
    "On the origins of Python, Van Rossum wrote in 1996:\n",
    "\n",
    "  ...In December 1989, I was looking for a \"hobby\" programming project\n",
    "  that would keep me occupied during the week around Christmas. \n",
    "\n",
    "  My office ... would be closed, but I had a home computer, \n",
    "  and not much else on my hands. \n",
    "  \n",
    "  I decided to write an interpreter for the new scripting language \n",
    "  I had been thinking about lately: a descendant of ABC that would appeal \n",
    "  to Unix/C hackers. \n",
    "  \n",
    "  I chose Python as a working title for the project, \n",
    "  being in a slightly irreverent mood (and a big fan \n",
    "  of Monty Python's Flying Circus).\n",
    "\"\"\""
   ]
  },
  {
   "cell_type": "markdown",
   "metadata": {},
   "source": [
    "**Ir dots teksta mainīgais (my_str).**\n",
    "\n",
    "1. Saskaitīt tekstā sastopamo vārdu biežumu\n",
    "1. Izdrukāt unikālo vārdu skaitu\n",
    "1. Izdrukāt 20. biežāk sastopamo vārdu sarakstu\n",
    "1. Kādi ir tekstā visretāk sastopamie vārdi?"
   ]
  },
  {
   "cell_type": "code",
   "execution_count": 5,
   "metadata": {},
   "outputs": [],
   "source": [
    "# uzdevuma risinājumu var rakstīt te (vai ārpus šī dokumenta)\n",
    "\n",
    "# ...\n"
   ]
  }
 ],
 "metadata": {
  "celltoolbar": "Raw Cell Format",
  "kernelspec": {
   "display_name": "Python 3",
   "language": "python",
   "name": "python3"
  },
  "language_info": {
   "codemirror_mode": {
    "name": "ipython",
    "version": 3
   },
   "file_extension": ".py",
   "mimetype": "text/x-python",
   "name": "python",
   "nbconvert_exporter": "python",
   "pygments_lexer": "ipython3",
   "version": "3.5.5"
  }
 },
 "nbformat": 4,
 "nbformat_minor": 2
}
